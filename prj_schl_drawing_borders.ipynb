{
 "cells": [
  {
   "cell_type": "code",
   "execution_count": 1,
   "metadata": {},
   "outputs": [],
   "source": [
    "import cv2\n",
    "import matplotlib.pyplot as plt\n",
    "import numpy as np\n",
    "import glob"
   ]
  },
  {
   "cell_type": "code",
   "execution_count": 2,
   "metadata": {},
   "outputs": [],
   "source": [
    "import os\n",
    "from threading import Thread\n",
    "import math\n",
    "import threading\n",
    "import time"
   ]
  },
  {
   "cell_type": "code",
   "execution_count": 3,
   "metadata": {},
   "outputs": [],
   "source": [
    "a=480\n",
    "b=854\n",
    "#rec=np.zeros(img.shape)\n",
    "num_of_threads = (os.cpu_count()-(threading.active_count()))//2\n",
    "global thickness\n",
    "thickness=6\n",
    "\n",
    "def check(k,i,j,img):\n",
    "    if(k<0):\n",
    "        return False\n",
    "    if(k==b):\n",
    "        return False\n",
    "    if(img[i][j]!=img[i][k]):\n",
    "        return False\n",
    "    return True\n",
    "\n",
    "def mat(start,end,org_img,img_org,img):\n",
    "    for i in range(start,end):\n",
    "        for j in range(b-thickness):\n",
    "            if(img[i-1][j-1] != img[i][j]):\n",
    "                k = j-1\n",
    "                sto=k-thickness\n",
    "                while sto<k and check(k,i-1,j-1,img):\n",
    "                    org_img[i-1][k] = img_org[i-1][k]\n",
    "                    #org_img[i-1][k].fill(255) #for white borders\n",
    "                    k -= 1\n",
    "                k = j\n",
    "                sto=k+thickness\n",
    "                while k<sto and check(k,i,j,img):\n",
    "                    org_img[i][k] = img_org[i][k]\n",
    "                    #org_img[i][k].fill(255) #for white borders\n",
    "                    k += 1\n",
    "    \n",
    "def buttowski(img,msk,msk2):\n",
    "    global num_of_threads\n",
    "    thread_handle = []\n",
    "\n",
    "    for j in range(0,num_of_threads):\n",
    "        t = Thread(target = mat, args=(int((a/num_of_threads) * j),int((a/num_of_threads) * (j+1)),img,msk,msk2))\n",
    "        thread_handle.append(t)\n",
    "        t.start()   \n",
    "        \n",
    "    for j in range(0,num_of_threads):\n",
    "        thread_handle[j].join()\n",
    "    \n",
    "    return img     "
   ]
  },
  {
   "cell_type": "code",
   "execution_count": 4,
   "metadata": {},
   "outputs": [],
   "source": [
    "IMG='./images/'\n",
    "MSK='./masks/'"
   ]
  },
  {
   "cell_type": "code",
   "execution_count": 14,
   "metadata": {},
   "outputs": [],
   "source": [
    "images=os.listdir(IMG)\n",
    "masks=os.listdir(MSK)"
   ]
  },
  {
   "cell_type": "code",
   "execution_count": 15,
   "metadata": {},
   "outputs": [],
   "source": [
    "dedeepya=images[0]\n",
    "mask=masks[0]"
   ]
  },
  {
   "cell_type": "code",
   "execution_count": 16,
   "metadata": {},
   "outputs": [],
   "source": [
    "\n",
    "frameSize = (512, 512)\n",
    "\n",
    "# out = cv2.VideoWriter('output_mask_video.avi',\n",
    "#                       cv2.VideoWriter_fourcc(*'DIVX'), 10, frameSize)\n",
    "\n",
    "for i in range(len(images)):\n",
    "    img=cv2.imread(IMG+images[i])\n",
    "    #img=cv2.cvtColor(img, cv2.COLOR_BGR2RGB)\n",
    "    msk=cv2.imread(MSK+masks[i])\n",
    "    #msk=cv2.cvtColor(msk, cv2.COLOR_BGR2RGB)\n",
    "    msk2=cv2.imread(MSK+masks[i],0)\n",
    "    img=buttowski(img,msk,msk2)\n",
    "    img=cv2.resize(img, (512, 512), interpolation = cv2.INTER_NEAREST)\n",
    "    out.write(img)\n",
    "\n",
    "out.release()\n"
   ]
  },
  {
   "cell_type": "code",
   "execution_count": 18,
   "metadata": {},
   "outputs": [
    {
     "name": "stdout",
     "output_type": "stream",
     "text": [
      "frame_1210_endo.png\n"
     ]
    }
   ],
   "source": [
    "print(dedeepya)"
   ]
  },
  {
   "cell_type": "code",
   "execution_count": 19,
   "metadata": {},
   "outputs": [
    {
     "name": "stdout",
     "output_type": "stream",
     "text": [
      "frame_1188_endo_color_mask.png\n"
     ]
    }
   ],
   "source": [
    "print(mask)"
   ]
  },
  {
   "cell_type": "code",
   "execution_count": 23,
   "metadata": {},
   "outputs": [],
   "source": [
    "import matplotlib.pyplot as plt\n",
    "import numpy as np"
   ]
  },
  {
   "cell_type": "code",
   "execution_count": 25,
   "metadata": {},
   "outputs": [
    {
     "ename": "TypeError",
     "evalue": "_save_dispatcher() missing 1 required positional argument: 'arr'",
     "output_type": "error",
     "traceback": [
      "\u001b[0;31m---------------------------------------------------------------------------\u001b[0m",
      "\u001b[0;31mTypeError\u001b[0m                                 Traceback (most recent call last)",
      "Cell \u001b[0;32mIn [25], line 1\u001b[0m\n\u001b[0;32m----> 1\u001b[0m \u001b[43mnp\u001b[49m\u001b[38;5;241;43m.\u001b[39;49m\u001b[43msave\u001b[49m\u001b[43m(\u001b[49m\u001b[43mmask\u001b[49m\u001b[43m)\u001b[49m\n",
      "File \u001b[0;32m<__array_function__ internals>:179\u001b[0m, in \u001b[0;36msave\u001b[0;34m(*args, **kwargs)\u001b[0m\n",
      "\u001b[0;31mTypeError\u001b[0m: _save_dispatcher() missing 1 required positional argument: 'arr'"
     ]
    }
   ],
   "source": [
    "np.save(mask)"
   ]
  },
  {
   "cell_type": "code",
   "execution_count": null,
   "metadata": {},
   "outputs": [],
   "source": []
  }
 ],
 "metadata": {
  "kernelspec": {
   "display_name": "Python 3.9 (tensorflow)",
   "language": "python",
   "name": "tensorflow"
  },
  "language_info": {
   "codemirror_mode": {
    "name": "ipython",
    "version": 3
   },
   "file_extension": ".py",
   "mimetype": "text/x-python",
   "name": "python",
   "nbconvert_exporter": "python",
   "pygments_lexer": "ipython3",
   "version": "3.9.13"
  },
  "vscode": {
   "interpreter": {
    "hash": "cecdbb8a386753265ea3d8850d27e0408bb31a50228b61da79f53a7f1b0da400"
   }
  }
 },
 "nbformat": 4,
 "nbformat_minor": 2
}
