{
 "cells": [
  {
   "cell_type": "code",
   "execution_count": 1,
   "metadata": {},
   "outputs": [],
   "source": [
    "import cv2\n",
    "import matplotlib.pyplot as plt\n",
    "import numpy as np\n",
    "import glob"
   ]
  },
  {
   "cell_type": "code",
   "execution_count": 2,
   "metadata": {},
   "outputs": [],
   "source": [
    "import os\n",
    "from threading import Thread\n",
    "import math\n",
    "import threading\n",
    "import time"
   ]
  },
  {
   "cell_type": "code",
   "execution_count": 3,
   "metadata": {},
   "outputs": [],
   "source": [
    "a=480\n",
    "b=854\n",
    "#rec=np.zeros(img.shape)\n",
    "num_of_threads = (os.cpu_count()-(threading.active_count()))//2\n",
    "global thickness\n",
    "thickness=10\n",
    "\n",
    "def check(k,i,j,img):\n",
    "    if(k<0):\n",
    "        return False\n",
    "    if(k==b):\n",
    "        return False\n",
    "    if(img[i][j]!=img[i][k]):\n",
    "        return False\n",
    "    return True\n",
    "\n",
    "def mat(start,end,org_img,img_org,img):\n",
    "    for i in range(start,end):\n",
    "        for j in range(b-thickness):\n",
    "            if(img[i-1][j-1] != img[i][j]):\n",
    "                k = j-1\n",
    "                sto=k-thickness\n",
    "                while sto<k and check(k,i-1,j-1,img):\n",
    "                    org_img[i-1][k] = img_org[i-1][k]\n",
    "                    #org_img[i-1][k].fill(255) #for white borders\n",
    "                    k -= 1\n",
    "                k = j\n",
    "                sto=k+thickness\n",
    "                while k<sto and check(k,i,j,img):\n",
    "                    org_img[i][k] = img_org[i][k]\n",
    "                    #org_img[i][k].fill(255) #for white borders\n",
    "                    k += 1\n",
    "    \n",
    "def buttowski(img,msk,msk2):\n",
    "    global num_of_threads\n",
    "    thread_handle = []\n",
    "\n",
    "    for j in range(0,num_of_threads):\n",
    "        t = Thread(target = mat, args=(int((a/num_of_threads) * j),int((a/num_of_threads) * (j+1)),img,msk,msk2))\n",
    "        thread_handle.append(t)\n",
    "        t.start()   \n",
    "        \n",
    "    for j in range(0,num_of_threads):\n",
    "        thread_handle[j].join()\n",
    "    \n",
    "    return img\n",
    "            \n",
    "# def buttowski():\n",
    "#     #start_time = time.time()\n",
    "#     Threadfun()\n",
    "#     #end_time = time.time()\n",
    "#     #print(str(end_time - start_time))\n",
    "    \n",
    "# buttowski(10)"
   ]
  },
  {
   "cell_type": "code",
   "execution_count": 4,
   "metadata": {},
   "outputs": [],
   "source": [
    "IMG='/Users/sahilapte/Desktop/datasets/pydt/ds1/images'\n",
    "MSK='./masks/'"
   ]
  },
  {
   "cell_type": "code",
   "execution_count": 5,
   "metadata": {},
   "outputs": [
    {
     "ename": "FileNotFoundError",
     "evalue": "[Errno 2] No such file or directory: './images/'",
     "output_type": "error",
     "traceback": [
      "\u001b[0;31m---------------------------------------------------------------------------\u001b[0m",
      "\u001b[0;31mFileNotFoundError\u001b[0m                         Traceback (most recent call last)",
      "Cell \u001b[0;32mIn [5], line 1\u001b[0m\n\u001b[0;32m----> 1\u001b[0m images\u001b[38;5;241m=\u001b[39m\u001b[43mos\u001b[49m\u001b[38;5;241;43m.\u001b[39;49m\u001b[43mlistdir\u001b[49m\u001b[43m(\u001b[49m\u001b[43mIMG\u001b[49m\u001b[43m)\u001b[49m\n\u001b[1;32m      2\u001b[0m masks\u001b[38;5;241m=\u001b[39mos\u001b[38;5;241m.\u001b[39mlistdir(MSK)\n",
      "\u001b[0;31mFileNotFoundError\u001b[0m: [Errno 2] No such file or directory: './images/'"
     ]
    }
   ],
   "source": [
    "images=os.listdir(IMG)\n",
    "masks=os.listdir(MSK)"
   ]
  },
  {
   "cell_type": "code",
   "execution_count": 56,
   "metadata": {},
   "outputs": [],
   "source": [
    "\n",
    "frameSize = (512, 512)\n",
    "\n",
    "out = cv2.VideoWriter('output_mask_video.avi',\n",
    "                      cv2.VideoWriter_fourcc(*'DIVX'), 10, frameSize)\n",
    "\n",
    "for i in range(320):\n",
    "    img=cv2.imread(IMG+images[i])\n",
    "    #img=cv2.cvtColor(img, cv2.COLOR_BGR2RGB)\n",
    "    msk=cv2.imread(MSK+masks[i])\n",
    "    #msk=cv2.cvtColor(msk, cv2.COLOR_BGR2RGB)\n",
    "    msk2=cv2.imread(MSK+masks[i],0)\n",
    "    img=buttowski(img,msk,msk2)\n",
    "    img=cv2.resize(img, (512, 512), interpolation = cv2.INTER_NEAREST)\n",
    "    out.write(img)\n",
    "\n",
    "out.release()\n"
   ]
  },
  {
   "cell_type": "code",
   "execution_count": 57,
   "metadata": {},
   "outputs": [],
   "source": [
    "import moviepy.editor as mvi"
   ]
  },
  {
   "cell_type": "code",
   "execution_count": 58,
   "metadata": {},
   "outputs": [
    {
     "name": "stdout",
     "output_type": "stream",
     "text": [
      "Moviepy - Building video thuppas.mp4.\n",
      "Moviepy - Writing video thuppas.mp4\n",
      "\n"
     ]
    },
    {
     "name": "stderr",
     "output_type": "stream",
     "text": [
      "                                                               \r"
     ]
    },
    {
     "name": "stdout",
     "output_type": "stream",
     "text": [
      "Moviepy - Done !\n",
      "Moviepy - video ready thuppas.mp4\n"
     ]
    }
   ],
   "source": [
    "clip=mvi.VideoFileClip('output_mask_video.avi')\n",
    "clip.write_videofile(\"output.mp4\")"
   ]
  }
 ],
 "metadata": {
  "kernelspec": {
   "display_name": "Python 3.9 (tensorflow)",
   "language": "python",
   "name": "tensorflow"
  },
  "language_info": {
   "codemirror_mode": {
    "name": "ipython",
    "version": 3
   },
   "file_extension": ".py",
   "mimetype": "text/x-python",
   "name": "python",
   "nbconvert_exporter": "python",
   "pygments_lexer": "ipython3",
   "version": "3.9.13"
  },
  "vscode": {
   "interpreter": {
    "hash": "cecdbb8a386753265ea3d8850d27e0408bb31a50228b61da79f53a7f1b0da400"
   }
  }
 },
 "nbformat": 4,
 "nbformat_minor": 2
}
